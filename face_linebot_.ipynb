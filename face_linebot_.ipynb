{
 "cells": [
  {
   "cell_type": "code",
   "execution_count": 1,
   "id": "c9a626a5",
   "metadata": {
    "execution": {
     "iopub.execute_input": "2023-12-25T05:25:31.424520Z",
     "iopub.status.busy": "2023-12-25T05:25:31.424520Z",
     "iopub.status.idle": "2023-12-25T05:25:31.943618Z",
     "shell.execute_reply": "2023-12-25T05:25:31.943618Z"
    },
    "papermill": {
     "duration": 0.522201,
     "end_time": "2023-12-25T05:25:31.944648",
     "exception": false,
     "start_time": "2023-12-25T05:25:31.422447",
     "status": "completed"
    },
    "tags": []
   },
   "outputs": [],
   "source": [
    "import io\n",
    "import os\n",
    "import nbformat\n",
    "from nbconvert.preprocessors import ExecutePreprocessor\n",
    "from flask import Flask, request, abort, send_from_directory\n",
    "from linebot import LineBotApi, WebhookHandler\n",
    "from linebot.exceptions import InvalidSignatureError\n",
    "from linebot.models import MessageEvent, ImageMessage, ImageSendMessage\n",
    "from PIL import Image\n",
    "from dotenv import load_dotenv\n",
    "\n",
    "load_dotenv()\n",
    "\n",
    "app = Flask(__name__)\n",
    "line_bot_api = LineBotApi(os.getenv('LINE_CHANNEL_ACCESS_TOKEN'))\n",
    "handler = WebhookHandler(os.getenv('LINE_CHANNEL_SECRET'))\n",
    "\n",
    "@app.route(\"/callback\", methods=['POST'])\n",
    "def callback():\n",
    "    signature = request.headers['X-Line-Signature']\n",
    "    body = request.get_data(as_text=True)\n",
    "    try:\n",
    "        handler.handle(body, signature)\n",
    "        return '', 200  # 確保總是返回 200 狀態碼\n",
    "    except InvalidSignatureError:\n",
    "        abort(400)\n",
    "    except Exception as e:\n",
    "        app.logger.error(f\"Error handling request: {e}\")\n",
    "        return '', 500\n",
    "\n",
    "\n",
    "@handler.add(MessageEvent, message=ImageMessage)\n",
    "def handle_image_message(event):\n",
    "    message_content = line_bot_api.get_message_content(event.message.id)\n",
    "    image_data = io.BytesIO(message_content.content)\n",
    "    image_path = 'input_image.jpg'\n",
    "    with open(image_path, 'wb') as f:\n",
    "        f.write(image_data.read())\n",
    "\n",
    "    # 執行 Notebook\n",
    "    nb_path = 'face(all_points,bfs,for_demo).ipynb'\n",
    "    run_notebook(nb_path)\n",
    "\n",
    "    # 假設 Notebook 處理完畢後保存圖片為 'output_image.jpg'\n",
    "    output_image_path = 'output_image.jpg'\n",
    "    line_bot_api.reply_message(\n",
    "        event.reply_token,\n",
    "        ImageSendMessage(\n",
    "            original_content_url=f\"https://{os.environ.get('kaomoji')}.herokuapp.com/images/{output_image_path}\",\n",
    "            preview_image_url=f\"https://{os.environ.get('kaomoji')}.herokuapp.com/images/{output_image_path}\"\n",
    "        )\n",
    "    )\n",
    "\n",
    "def run_notebook(path):\n",
    "    with open(path) as f:\n",
    "        nb = nbformat.read(f, as_version=4)\n",
    "    ep = ExecutePreprocessor(timeout=600, kernel_name='python3')\n",
    "    ep.preprocess(nb)\n",
    "    return nb\n",
    "\n",
    "@app.route('/images/<filename>')\n",
    "def uploaded_file(filename):\n",
    "    return send_from_directory('images', filename)\n",
    "\n",
    "if __name__ == \"__main__\":\n",
    "    app.run()\n"
   ]
  }
 ],
 "metadata": {
  "kernelspec": {
   "display_name": "Python 3 (ipykernel)",
   "language": "python",
   "name": "python3"
  },
  "language_info": {
   "codemirror_mode": {
    "name": "ipython",
    "version": 3
   },
   "file_extension": ".py",
   "mimetype": "text/x-python",
   "name": "python",
   "nbconvert_exporter": "python",
   "pygments_lexer": "ipython3",
   "version": "3.8.19"
  },
  "papermill": {
   "default_parameters": {},
   "duration": 5.494288,
   "end_time": "2023-12-25T05:25:36.148739",
   "environment_variables": {},
   "exception": null,
   "input_path": "face(all_points)_mark2(not_for_demo).ipynb",
   "output_path": "face(all_points)_mark2(not_for_demo).ipynb",
   "parameters": {
    "image_path1": "human_picture\\000100.jpg"
   },
   "start_time": "2023-12-25T05:25:30.654451",
   "version": "2.5.0"
  }
 },
 "nbformat": 4,
 "nbformat_minor": 5
}
